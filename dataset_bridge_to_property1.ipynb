{
  "nbformat": 4,
  "nbformat_minor": 0,
  "metadata": {
    "colab": {
      "name": "dataset_bridge_to_property1.ipynb",
      "provenance": [],
      "collapsed_sections": [],
      "authorship_tag": "ABX9TyP8FpFmt9kKW05acBIhgETx",
      "include_colab_link": true
    },
    "kernelspec": {
      "name": "python3",
      "display_name": "Python 3"
    }
  },
  "cells": [
    {
      "cell_type": "markdown",
      "metadata": {
        "id": "view-in-github",
        "colab_type": "text"
      },
      "source": [
        "<a href=\"https://colab.research.google.com/github/pingao2019/lab_data/blob/master/dataset_bridge_to_property1.ipynb\" target=\"_parent\"><img src=\"https://colab.research.google.com/assets/colab-badge.svg\" alt=\"Open In Colab\"/></a>"
      ]
    },
    {
      "cell_type": "code",
      "metadata": {
        "id": "_Kj6S5kiQ5Ai",
        "colab_type": "code",
        "colab": {
          "base_uri": "https://localhost:8080/",
          "height": 487
        },
        "outputId": "bdec9cef-82a0-44d6-c235-41eb47531d3e"
      },
      "source": [
        "import pandas as pd\n",
        "sites=pd.read_csv('https://raw.githubusercontent.com/Lord-Kanzler/Labs25_B2P/master/data/raw/B2P_Rwanda_Site_Assessment_Data.csv')\n",
        "sites.head()"
      ],
      "execution_count": 5,
      "outputs": [
        {
          "output_type": "execute_result",
          "data": {
            "text/html": [
              "<div>\n",
              "<style scoped>\n",
              "    .dataframe tbody tr th:only-of-type {\n",
              "        vertical-align: middle;\n",
              "    }\n",
              "\n",
              "    .dataframe tbody tr th {\n",
              "        vertical-align: top;\n",
              "    }\n",
              "\n",
              "    .dataframe thead th {\n",
              "        text-align: right;\n",
              "    }\n",
              "</style>\n",
              "<table border=\"1\" class=\"dataframe\">\n",
              "  <thead>\n",
              "    <tr style=\"text-align: right;\">\n",
              "      <th></th>\n",
              "      <th>Country</th>\n",
              "      <th>Province</th>\n",
              "      <th>District</th>\n",
              "      <th>Sector</th>\n",
              "      <th>Cell</th>\n",
              "      <th>Bridge Site Name</th>\n",
              "      <th>Project Stage</th>\n",
              "      <th>Project Sub-Stage</th>\n",
              "      <th>Project Code</th>\n",
              "      <th>Bridge Type</th>\n",
              "      <th>Span (m)</th>\n",
              "      <th>GPS (Latitude)</th>\n",
              "      <th>GPS (Longitude)</th>\n",
              "      <th>Individuals Directly Served</th>\n",
              "      <th>Form: Form Name</th>\n",
              "      <th>Community Served 1</th>\n",
              "      <th>Community Served 2</th>\n",
              "      <th>Community Served 3</th>\n",
              "      <th>Community Served 4</th>\n",
              "      <th>Community Served 5</th>\n",
              "      <th>Community Served 6</th>\n",
              "      <th>Community Served 7</th>\n",
              "      <th>Community Served 8</th>\n",
              "      <th>Community Served 9</th>\n",
              "      <th>Community Served 10</th>\n",
              "      <th>CaseSafeID Form</th>\n",
              "      <th>Bridge Opportunity: Opportunity ID</th>\n",
              "    </tr>\n",
              "  </thead>\n",
              "  <tbody>\n",
              "    <tr>\n",
              "      <th>0</th>\n",
              "      <td>Rwanda</td>\n",
              "      <td>Western Province</td>\n",
              "      <td>Rusizi</td>\n",
              "      <td>Giheke</td>\n",
              "      <td>Gakomeye</td>\n",
              "      <td>Buzi</td>\n",
              "      <td>Rejected</td>\n",
              "      <td>Technical</td>\n",
              "      <td>1014107</td>\n",
              "      <td>Suspended</td>\n",
              "      <td>NaN</td>\n",
              "      <td>-2.420560</td>\n",
              "      <td>28.966200</td>\n",
              "      <td>NaN</td>\n",
              "      <td>Project Assessment - 2018.10.29</td>\n",
              "      <td>Buzi</td>\n",
              "      <td>Kabuga</td>\n",
              "      <td>Kagarama</td>\n",
              "      <td>Gacyamo</td>\n",
              "      <td>Gasheke</td>\n",
              "      <td>NaN</td>\n",
              "      <td>NaN</td>\n",
              "      <td>NaN</td>\n",
              "      <td>NaN</td>\n",
              "      <td>NaN</td>\n",
              "      <td>a1if1000002e51bAAA</td>\n",
              "      <td>006f100000d1fk1</td>\n",
              "    </tr>\n",
              "    <tr>\n",
              "      <th>1</th>\n",
              "      <td>Rwanda</td>\n",
              "      <td>Western Province</td>\n",
              "      <td>Rusizi</td>\n",
              "      <td>Giheke</td>\n",
              "      <td>Gakomeye</td>\n",
              "      <td>Kamigisha</td>\n",
              "      <td>Rejected</td>\n",
              "      <td>Technical</td>\n",
              "      <td>1014106</td>\n",
              "      <td>Suspended</td>\n",
              "      <td>NaN</td>\n",
              "      <td>-2.424860</td>\n",
              "      <td>28.957260</td>\n",
              "      <td>NaN</td>\n",
              "      <td>Project Assessment - 2018.10.29</td>\n",
              "      <td>Kabuga</td>\n",
              "      <td>Buzi</td>\n",
              "      <td>Gacyamo - Gasheke</td>\n",
              "      <td>Kagarama</td>\n",
              "      <td>Kanoga</td>\n",
              "      <td>NaN</td>\n",
              "      <td>NaN</td>\n",
              "      <td>NaN</td>\n",
              "      <td>NaN</td>\n",
              "      <td>NaN</td>\n",
              "      <td>a1if1000002e51WAAQ</td>\n",
              "      <td>006f100000d1fjw</td>\n",
              "    </tr>\n",
              "    <tr>\n",
              "      <th>2</th>\n",
              "      <td>Rwanda</td>\n",
              "      <td>Northern Province</td>\n",
              "      <td>Rulindo</td>\n",
              "      <td>Buyoga</td>\n",
              "      <td>Gahororo-Gipfundo</td>\n",
              "      <td>Gipfundo</td>\n",
              "      <td>Rejected</td>\n",
              "      <td>Technical</td>\n",
              "      <td>1007651</td>\n",
              "      <td>Suspended</td>\n",
              "      <td>8.0</td>\n",
              "      <td>-1.720530</td>\n",
              "      <td>30.081240</td>\n",
              "      <td>NaN</td>\n",
              "      <td>Project Assessment - 2018.8.11</td>\n",
              "      <td>Gapfundo</td>\n",
              "      <td>Rusabira ( Gicumbi)</td>\n",
              "      <td>Merezo</td>\n",
              "      <td>Minanire</td>\n",
              "      <td>Karutongo</td>\n",
              "      <td>NaN</td>\n",
              "      <td>NaN</td>\n",
              "      <td>NaN</td>\n",
              "      <td>NaN</td>\n",
              "      <td>NaN</td>\n",
              "      <td>a1if10000025nz8AAA</td>\n",
              "      <td>006f100000a86I3</td>\n",
              "    </tr>\n",
              "    <tr>\n",
              "      <th>3</th>\n",
              "      <td>Rwanda</td>\n",
              "      <td>Northern Province</td>\n",
              "      <td>Gicumbi</td>\n",
              "      <td>Kageyo</td>\n",
              "      <td>Kabuga/gatobotobo</td>\n",
              "      <td>Nyarubande</td>\n",
              "      <td>Rejected</td>\n",
              "      <td>NaN</td>\n",
              "      <td>1012493</td>\n",
              "      <td>Other</td>\n",
              "      <td>NaN</td>\n",
              "      <td>-1.655950</td>\n",
              "      <td>30.078840</td>\n",
              "      <td>NaN</td>\n",
              "      <td>Project Assessment - 2018.8.11</td>\n",
              "      <td>NaN</td>\n",
              "      <td>NaN</td>\n",
              "      <td>NaN</td>\n",
              "      <td>NaN</td>\n",
              "      <td>NaN</td>\n",
              "      <td>NaN</td>\n",
              "      <td>NaN</td>\n",
              "      <td>NaN</td>\n",
              "      <td>NaN</td>\n",
              "      <td>NaN</td>\n",
              "      <td>a1if10000025nzDAAQ</td>\n",
              "      <td>006f100000cPpL8</td>\n",
              "    </tr>\n",
              "    <tr>\n",
              "      <th>4</th>\n",
              "      <td>Rwanda</td>\n",
              "      <td>Southern Province</td>\n",
              "      <td>Kamonyi</td>\n",
              "      <td>Kayenzi</td>\n",
              "      <td>Kirwa</td>\n",
              "      <td>Gisizi</td>\n",
              "      <td>Identified</td>\n",
              "      <td>Requested</td>\n",
              "      <td>1014318</td>\n",
              "      <td>Suspended</td>\n",
              "      <td>NaN</td>\n",
              "      <td>-1.870868</td>\n",
              "      <td>29.877686</td>\n",
              "      <td>NaN</td>\n",
              "      <td>Project Assessment - 2018.11.15</td>\n",
              "      <td>Gisizi</td>\n",
              "      <td>Nyabitare</td>\n",
              "      <td>NaN</td>\n",
              "      <td>NaN</td>\n",
              "      <td>NaN</td>\n",
              "      <td>NaN</td>\n",
              "      <td>NaN</td>\n",
              "      <td>NaN</td>\n",
              "      <td>NaN</td>\n",
              "      <td>NaN</td>\n",
              "      <td>a1if1000002gMwRAAU</td>\n",
              "      <td>006f100000eescb</td>\n",
              "    </tr>\n",
              "  </tbody>\n",
              "</table>\n",
              "</div>"
            ],
            "text/plain": [
              "  Country  ... Bridge Opportunity: Opportunity ID\n",
              "0  Rwanda  ...                    006f100000d1fk1\n",
              "1  Rwanda  ...                    006f100000d1fjw\n",
              "2  Rwanda  ...                    006f100000a86I3\n",
              "3  Rwanda  ...                    006f100000cPpL8\n",
              "4  Rwanda  ...                    006f100000eescb\n",
              "\n",
              "[5 rows x 27 columns]"
            ]
          },
          "metadata": {
            "tags": []
          },
          "execution_count": 5
        }
      ]
    },
    {
      "cell_type": "markdown",
      "metadata": {
        "id": "dRy9lo-3RlVc",
        "colab_type": "text"
      },
      "source": [
        ""
      ]
    },
    {
      "cell_type": "code",
      "metadata": {
        "id": "q0EyKrOQRcuZ",
        "colab_type": "code",
        "colab": {
          "base_uri": "https://localhost:8080/",
          "height": 35
        },
        "outputId": "1db8f09a-4f0b-4be9-925c-5eeab6298e6f"
      },
      "source": [
        "sites.shape"
      ],
      "execution_count": null,
      "outputs": [
        {
          "output_type": "execute_result",
          "data": {
            "text/plain": [
              "(1472, 27)"
            ]
          },
          "metadata": {
            "tags": []
          },
          "execution_count": 2
        }
      ]
    },
    {
      "cell_type": "code",
      "metadata": {
        "id": "rd2J4GLdRcq8",
        "colab_type": "code",
        "colab": {
          "base_uri": "https://localhost:8080/",
          "height": 516
        },
        "outputId": "40888871-b711-425f-ed3a-5eb516a105f4"
      },
      "source": [
        "sites.columns.to_list()"
      ],
      "execution_count": null,
      "outputs": [
        {
          "output_type": "execute_result",
          "data": {
            "text/plain": [
              "['Country',\n",
              " 'Province',\n",
              " 'District',\n",
              " 'Sector',\n",
              " 'Cell',\n",
              " 'Bridge Site Name',\n",
              " 'Project Stage',\n",
              " 'Project Sub-Stage',\n",
              " 'Project Code',\n",
              " 'Bridge Type',\n",
              " ' Span (m)',\n",
              " ' GPS (Latitude)',\n",
              " 'GPS (Longitude)',\n",
              " 'Individuals Directly Served',\n",
              " 'Form: Form Name',\n",
              " 'Community Served 1',\n",
              " 'Community Served 2',\n",
              " 'Community Served 3',\n",
              " 'Community Served 4',\n",
              " 'Community Served 5',\n",
              " 'Community Served 6',\n",
              " 'Community Served 7',\n",
              " 'Community Served 8',\n",
              " 'Community Served 9',\n",
              " 'Community Served 10',\n",
              " 'CaseSafeID Form',\n",
              " 'Bridge Opportunity: Opportunity ID']"
            ]
          },
          "metadata": {
            "tags": []
          },
          "execution_count": 3
        }
      ]
    },
    {
      "cell_type": "code",
      "metadata": {
        "id": "-xknsz40YAYR",
        "colab_type": "code",
        "colab": {
          "base_uri": "https://localhost:8080/",
          "height": 318
        },
        "outputId": "d6df030d-3278-45ea-a175-cfbab4e2c15d"
      },
      "source": [
        "sites.describe()"
      ],
      "execution_count": null,
      "outputs": [
        {
          "output_type": "execute_result",
          "data": {
            "text/html": [
              "<div>\n",
              "<style scoped>\n",
              "    .dataframe tbody tr th:only-of-type {\n",
              "        vertical-align: middle;\n",
              "    }\n",
              "\n",
              "    .dataframe tbody tr th {\n",
              "        vertical-align: top;\n",
              "    }\n",
              "\n",
              "    .dataframe thead th {\n",
              "        text-align: right;\n",
              "    }\n",
              "</style>\n",
              "<table border=\"1\" class=\"dataframe\">\n",
              "  <thead>\n",
              "    <tr style=\"text-align: right;\">\n",
              "      <th></th>\n",
              "      <th>Span (m)</th>\n",
              "      <th>GPS (Latitude)</th>\n",
              "      <th>GPS (Longitude)</th>\n",
              "      <th>Individuals Directly Served</th>\n",
              "      <th>Community Served 6</th>\n",
              "      <th>Community Served 7</th>\n",
              "      <th>Community Served 8</th>\n",
              "      <th>Community Served 9</th>\n",
              "      <th>Community Served 10</th>\n",
              "    </tr>\n",
              "  </thead>\n",
              "  <tbody>\n",
              "    <tr>\n",
              "      <th>count</th>\n",
              "      <td>408.000000</td>\n",
              "      <td>1468.000000</td>\n",
              "      <td>1468.000000</td>\n",
              "      <td>51.000000</td>\n",
              "      <td>0.0</td>\n",
              "      <td>0.0</td>\n",
              "      <td>0.0</td>\n",
              "      <td>0.0</td>\n",
              "      <td>0.0</td>\n",
              "    </tr>\n",
              "    <tr>\n",
              "      <th>mean</th>\n",
              "      <td>52.356127</td>\n",
              "      <td>-2.040594</td>\n",
              "      <td>29.678262</td>\n",
              "      <td>2264.078431</td>\n",
              "      <td>NaN</td>\n",
              "      <td>NaN</td>\n",
              "      <td>NaN</td>\n",
              "      <td>NaN</td>\n",
              "      <td>NaN</td>\n",
              "    </tr>\n",
              "    <tr>\n",
              "      <th>std</th>\n",
              "      <td>81.732121</td>\n",
              "      <td>0.469244</td>\n",
              "      <td>1.601779</td>\n",
              "      <td>3170.876774</td>\n",
              "      <td>NaN</td>\n",
              "      <td>NaN</td>\n",
              "      <td>NaN</td>\n",
              "      <td>NaN</td>\n",
              "      <td>NaN</td>\n",
              "    </tr>\n",
              "    <tr>\n",
              "      <th>min</th>\n",
              "      <td>4.000000</td>\n",
              "      <td>-2.799865</td>\n",
              "      <td>-29.496450</td>\n",
              "      <td>0.000000</td>\n",
              "      <td>NaN</td>\n",
              "      <td>NaN</td>\n",
              "      <td>NaN</td>\n",
              "      <td>NaN</td>\n",
              "      <td>NaN</td>\n",
              "    </tr>\n",
              "    <tr>\n",
              "      <th>25%</th>\n",
              "      <td>17.000000</td>\n",
              "      <td>-2.346920</td>\n",
              "      <td>29.440095</td>\n",
              "      <td>0.000000</td>\n",
              "      <td>NaN</td>\n",
              "      <td>NaN</td>\n",
              "      <td>NaN</td>\n",
              "      <td>NaN</td>\n",
              "      <td>NaN</td>\n",
              "    </tr>\n",
              "    <tr>\n",
              "      <th>50%</th>\n",
              "      <td>35.500000</td>\n",
              "      <td>-2.056546</td>\n",
              "      <td>29.672200</td>\n",
              "      <td>1720.000000</td>\n",
              "      <td>NaN</td>\n",
              "      <td>NaN</td>\n",
              "      <td>NaN</td>\n",
              "      <td>NaN</td>\n",
              "      <td>NaN</td>\n",
              "    </tr>\n",
              "    <tr>\n",
              "      <th>75%</th>\n",
              "      <td>58.000000</td>\n",
              "      <td>-1.740733</td>\n",
              "      <td>29.983409</td>\n",
              "      <td>3120.000000</td>\n",
              "      <td>NaN</td>\n",
              "      <td>NaN</td>\n",
              "      <td>NaN</td>\n",
              "      <td>NaN</td>\n",
              "      <td>NaN</td>\n",
              "    </tr>\n",
              "    <tr>\n",
              "      <th>max</th>\n",
              "      <td>850.000000</td>\n",
              "      <td>2.794150</td>\n",
              "      <td>30.813100</td>\n",
              "      <td>17270.000000</td>\n",
              "      <td>NaN</td>\n",
              "      <td>NaN</td>\n",
              "      <td>NaN</td>\n",
              "      <td>NaN</td>\n",
              "      <td>NaN</td>\n",
              "    </tr>\n",
              "  </tbody>\n",
              "</table>\n",
              "</div>"
            ],
            "text/plain": [
              "         Span (m)   GPS (Latitude)  ...  Community Served 9  Community Served 10\n",
              "count  408.000000      1468.000000  ...                 0.0                  0.0\n",
              "mean    52.356127        -2.040594  ...                 NaN                  NaN\n",
              "std     81.732121         0.469244  ...                 NaN                  NaN\n",
              "min      4.000000        -2.799865  ...                 NaN                  NaN\n",
              "25%     17.000000        -2.346920  ...                 NaN                  NaN\n",
              "50%     35.500000        -2.056546  ...                 NaN                  NaN\n",
              "75%     58.000000        -1.740733  ...                 NaN                  NaN\n",
              "max    850.000000         2.794150  ...                 NaN                  NaN\n",
              "\n",
              "[8 rows x 9 columns]"
            ]
          },
          "metadata": {
            "tags": []
          },
          "execution_count": 16
        }
      ]
    },
    {
      "cell_type": "code",
      "metadata": {
        "id": "6csmB_MBi3gp",
        "colab_type": "code",
        "colab": {
          "base_uri": "https://localhost:8080/",
          "height": 259
        },
        "outputId": "f0263451-632d-4f8b-f18f-b75802ad3691"
      },
      "source": [
        "# Get Pandas Profiling Report\n",
        "# !pip install pandas-profiling\n",
        "# import pandas_profiling as pp\n",
        "#pp.ProfileReport(sites)"
      ],
      "execution_count": null,
      "outputs": [
        {
          "output_type": "stream",
          "text": [
            "Requirement already satisfied: pandas-profiling in /usr/local/lib/python3.6/dist-packages (1.4.1)\n",
            "Requirement already satisfied: matplotlib>=1.4 in /usr/local/lib/python3.6/dist-packages (from pandas-profiling) (3.2.2)\n",
            "Requirement already satisfied: six>=1.9 in /usr/local/lib/python3.6/dist-packages (from pandas-profiling) (1.15.0)\n",
            "Requirement already satisfied: pandas>=0.19 in /usr/local/lib/python3.6/dist-packages (from pandas-profiling) (1.0.5)\n",
            "Requirement already satisfied: jinja2>=2.8 in /usr/local/lib/python3.6/dist-packages (from pandas-profiling) (2.11.2)\n",
            "Requirement already satisfied: cycler>=0.10 in /usr/local/lib/python3.6/dist-packages (from matplotlib>=1.4->pandas-profiling) (0.10.0)\n",
            "Requirement already satisfied: python-dateutil>=2.1 in /usr/local/lib/python3.6/dist-packages (from matplotlib>=1.4->pandas-profiling) (2.8.1)\n",
            "Requirement already satisfied: kiwisolver>=1.0.1 in /usr/local/lib/python3.6/dist-packages (from matplotlib>=1.4->pandas-profiling) (1.2.0)\n",
            "Requirement already satisfied: pyparsing!=2.0.4,!=2.1.2,!=2.1.6,>=2.0.1 in /usr/local/lib/python3.6/dist-packages (from matplotlib>=1.4->pandas-profiling) (2.4.7)\n",
            "Requirement already satisfied: numpy>=1.11 in /usr/local/lib/python3.6/dist-packages (from matplotlib>=1.4->pandas-profiling) (1.18.5)\n",
            "Requirement already satisfied: pytz>=2017.2 in /usr/local/lib/python3.6/dist-packages (from pandas>=0.19->pandas-profiling) (2018.9)\n",
            "Requirement already satisfied: MarkupSafe>=0.23 in /usr/local/lib/python3.6/dist-packages (from jinja2>=2.8->pandas-profiling) (1.1.1)\n"
          ],
          "name": "stdout"
        }
      ]
    },
    {
      "cell_type": "code",
      "metadata": {
        "id": "gYUqEMoDi2oV",
        "colab_type": "code",
        "colab": {
          "base_uri": "https://localhost:8080/",
          "height": 535
        },
        "outputId": "8ddf48b4-b2fd-43fa-bdab-2c807e4655b9"
      },
      "source": [
        "sites.isnull().sum()"
      ],
      "execution_count": null,
      "outputs": [
        {
          "output_type": "execute_result",
          "data": {
            "text/plain": [
              "Country                                  0\n",
              "Province                                 0\n",
              "District                                 0\n",
              "Sector                                   3\n",
              "Cell                                    51\n",
              "Bridge Site Name                         0\n",
              "Project Stage                            0\n",
              "Project Sub-Stage                       72\n",
              "Project Code                             0\n",
              "Bridge Type                            177\n",
              " Span (m)                             1064\n",
              " GPS (Latitude)                          4\n",
              "GPS (Longitude)                          4\n",
              "Individuals Directly Served           1421\n",
              "Form: Form Name                          0\n",
              "Community Served 1                      97\n",
              "Community Served 2                     208\n",
              "Community Served 3                     598\n",
              "Community Served 4                     828\n",
              "Community Served 5                    1070\n",
              "Community Served 6                    1472\n",
              "Community Served 7                    1472\n",
              "Community Served 8                    1472\n",
              "Community Served 9                    1472\n",
              "Community Served 10                   1472\n",
              "CaseSafeID Form                          0\n",
              "Bridge Opportunity: Opportunity ID       0\n",
              "dtype: int64"
            ]
          },
          "metadata": {
            "tags": []
          },
          "execution_count": 20
        }
      ]
    },
    {
      "cell_type": "code",
      "metadata": {
        "id": "0BW3BB30rkJ9",
        "colab_type": "code",
        "colab": {}
      },
      "source": [
        "# sites= sites.dropna(subset=[' '])"
      ],
      "execution_count": null,
      "outputs": []
    },
    {
      "cell_type": "code",
      "metadata": {
        "id": "CwWi5nznsJJJ",
        "colab_type": "code",
        "colab": {
          "base_uri": "https://localhost:8080/",
          "height": 350
        },
        "outputId": "302ef871-12ad-4316-e7d6-a14ebb69bd8c"
      },
      "source": [
        "sites.select_dtypes(exclude=\"number\").columns.tolist()"
      ],
      "execution_count": null,
      "outputs": [
        {
          "output_type": "execute_result",
          "data": {
            "text/plain": [
              "['Country',\n",
              " 'Province',\n",
              " 'District',\n",
              " 'Sector',\n",
              " 'Cell',\n",
              " 'Bridge Site Name',\n",
              " 'Project Stage',\n",
              " 'Project Sub-Stage',\n",
              " 'Project Code',\n",
              " 'Bridge Type',\n",
              " 'Form: Form Name',\n",
              " 'Community Served 1',\n",
              " 'Community Served 2',\n",
              " 'Community Served 3',\n",
              " 'Community Served 4',\n",
              " 'Community Served 5',\n",
              " 'CaseSafeID Form',\n",
              " 'Bridge Opportunity: Opportunity ID']"
            ]
          },
          "metadata": {
            "tags": []
          },
          "execution_count": 21
        }
      ]
    },
    {
      "cell_type": "code",
      "metadata": {
        "id": "MmJGIrWbsS_Q",
        "colab_type": "code",
        "colab": {
          "base_uri": "https://localhost:8080/",
          "height": 183
        },
        "outputId": "81a29d67-f711-4e9f-8a8f-d7643674ad78"
      },
      "source": [
        "sites.select_dtypes(include=\"number\").columns.tolist()"
      ],
      "execution_count": null,
      "outputs": [
        {
          "output_type": "execute_result",
          "data": {
            "text/plain": [
              "[' Span (m)',\n",
              " ' GPS (Latitude)',\n",
              " 'GPS (Longitude)',\n",
              " 'Individuals Directly Served',\n",
              " 'Community Served 6',\n",
              " 'Community Served 7',\n",
              " 'Community Served 8',\n",
              " 'Community Served 9',\n",
              " 'Community Served 10']"
            ]
          },
          "metadata": {
            "tags": []
          },
          "execution_count": 22
        }
      ]
    },
    {
      "cell_type": "code",
      "metadata": {
        "id": "VDS_3TZ2ZlYt",
        "colab_type": "code",
        "colab": {}
      },
      "source": [
        "%matplotlib inline\n",
        "import matplotlib.pyplot as plt\n",
        "import numpy as np\n",
        "import pandas as pd\n",
        "\n",
        "import random\n",
        "from statistics import mean, stdev"
      ],
      "execution_count": null,
      "outputs": []
    },
    {
      "cell_type": "code",
      "metadata": {
        "id": "aWBH4oocaM9H",
        "colab_type": "code",
        "colab": {
          "base_uri": "https://localhost:8080/",
          "height": 54
        },
        "outputId": "c3f8b77f-2227-4d6e-ed56-de5b8977b6d9"
      },
      "source": [
        "sites['Project Stage'].unique()"
      ],
      "execution_count": null,
      "outputs": [
        {
          "output_type": "execute_result",
          "data": {
            "text/plain": [
              "array(['Rejected', 'Identified', 'Complete', 'Confirmed', 'Prospecting',\n",
              "       'Under Construction'], dtype=object)"
            ]
          },
          "metadata": {
            "tags": []
          },
          "execution_count": 26
        }
      ]
    },
    {
      "cell_type": "code",
      "metadata": {
        "id": "yan2MI3wZ1GL",
        "colab_type": "code",
        "colab": {
          "base_uri": "https://localhost:8080/",
          "height": 265
        },
        "outputId": "ba57e4f6-d7c3-4740-ffee-e05214f1c7a3"
      },
      "source": [
        "plt.hist(sites['Project Stage']);"
      ],
      "execution_count": null,
      "outputs": [
        {
          "output_type": "display_data",
          "data": {
            "image/png": "[encoded data removed]",
            "text/plain": [
              "<Figure size 432x288 with 1 Axes>"
            ]
          },
          "metadata": {
            "tags": [],
            "needs_background": "light"
          }
        }
      ]
    },
    {
      "cell_type": "code",
      "metadata": {
        "id": "qN7uK7ouuXyl",
        "colab_type": "code",
        "colab": {
          "base_uri": "https://localhost:8080/",
          "height": 146
        },
        "outputId": "fc31436e-58c4-4d82-fb57-7dbca3c1764b"
      },
      "source": [
        "sites['Project Stage' ].value_counts()"
      ],
      "execution_count": null,
      "outputs": [
        {
          "output_type": "execute_result",
          "data": {
            "text/plain": [
              "Rejected              1166\n",
              "Identified             237\n",
              "Complete                40\n",
              "Prospecting             15\n",
              "Confirmed                7\n",
              "Under Construction       7\n",
              "Name: Project Stage, dtype: int64"
            ]
          },
          "metadata": {
            "tags": []
          },
          "execution_count": 30
        }
      ]
    },
    {
      "cell_type": "markdown",
      "metadata": {
        "id": "HSHMVbDdu_ht",
        "colab_type": "text"
      },
      "source": [
        ""
      ]
    },
    {
      "cell_type": "code",
      "metadata": {
        "id": "axGKH7DGuXqU",
        "colab_type": "code",
        "colab": {
          "base_uri": "https://localhost:8080/",
          "height": 146
        },
        "outputId": "3be3eaaa-e171-4e57-b653-aebfd94ffb28"
      },
      "source": [
        "sites['Project Sub-Stage' ].value_counts()"
      ],
      "execution_count": null,
      "outputs": [
        {
          "output_type": "execute_result",
          "data": {
            "text/plain": [
              "Technical                         1104\n",
              "Requested                          158\n",
              "Identified in Needs Assessment      57\n",
              "In Service                          39\n",
              "Social                              38\n",
              "Local Investment                     4\n",
              "Name: Project Sub-Stage, dtype: int64"
            ]
          },
          "metadata": {
            "tags": []
          },
          "execution_count": 31
        }
      ]
    },
    {
      "cell_type": "code",
      "metadata": {
        "id": "5bMsL-DdORLI",
        "colab_type": "code",
        "colab": {
          "base_uri": "https://localhost:8080/",
          "height": 146
        },
        "outputId": "1bc35818-0fec-4c64-dd6b-950c131c86ad"
      },
      "source": [
        "sites['Project Sub-Stage' ].value_counts()\n"
      ],
      "execution_count": 6,
      "outputs": [
        {
          "output_type": "execute_result",
          "data": {
            "text/plain": [
              "Technical                         1104\n",
              "Requested                          158\n",
              "Identified in Needs Assessment      57\n",
              "In Service                          39\n",
              "Social                              38\n",
              "Local Investment                     4\n",
              "Name: Project Sub-Stage, dtype: int64"
            ]
          },
          "metadata": {
            "tags": []
          },
          "execution_count": 6
        }
      ]
    },
    {
      "cell_type": "markdown",
      "metadata": {
        "id": "ozhT16LuOKqG",
        "colab_type": "text"
      },
      "source": [
        ""
      ]
    },
    {
      "cell_type": "code",
      "metadata": {
        "id": "RQ8ozaFr2RGP",
        "colab_type": "code",
        "colab": {
          "base_uri": "https://localhost:8080/",
          "height": 90
        },
        "outputId": "787635be-53f5-41c5-a250-3c28d590a7de"
      },
      "source": [
        "sites['Bridge Type'].value_counts()"
      ],
      "execution_count": 7,
      "outputs": [
        {
          "output_type": "execute_result",
          "data": {
            "text/plain": [
              "Suspension    657\n",
              "Suspended     615\n",
              "Other          23\n",
              "Name: Bridge Type, dtype: int64"
            ]
          },
          "metadata": {
            "tags": []
          },
          "execution_count": 7
        }
      ]
    },
    {
      "cell_type": "code",
      "metadata": {
        "id": "jnQBpPhMvo6t",
        "colab_type": "code",
        "colab": {}
      },
      "source": [
        "sites['Bridge Type'].value_counts()                                                                                                        "
      ],
      "execution_count": null,
      "outputs": []
    },
    {
      "cell_type": "code",
      "metadata": {
        "id": "ymvqMGnRuXlM",
        "colab_type": "code",
        "colab": {}
      },
      "source": [
        "'Country',\n",
        " 'Province',\n",
        " 'District',\n",
        " ,\n",
        " ,\n",
        " ,\n",
        " 'Project Stage',\n",
        " 'Project Sub-Stage',\n",
        " 'Project Code',\n",
        " ,\n",
        " ' Span (m)',\n",
        " ' GPS (Latitude)',\n",
        " 'GPS (Longitude)',\n",
        " 'Individuals Directly Served',\n",
        " \n",
        " 'Community Served 1',  \n",
        " 'Community Served 10',\n",
        " 'CaseSafeID Form',"
      ],
      "execution_count": null,
      "outputs": []
    },
    {
      "cell_type": "code",
      "metadata": {
        "id": "BWpNke1bRoJP",
        "colab_type": "code",
        "colab": {
          "base_uri": "https://localhost:8080/",
          "height": 127
        },
        "outputId": "cc84bb15-9d5b-4a23-b42a-52fc196dc87f"
      },
      "source": [
        "sites['Province'].value_counts() "
      ],
      "execution_count": 10,
      "outputs": [
        {
          "output_type": "execute_result",
          "data": {
            "text/plain": [
              "Western Province     503\n",
              "Southern Province    428\n",
              "Northern Province    265\n",
              "Eastern Province     220\n",
              "Kigali                56\n",
              "Name: Province, dtype: int64"
            ]
          },
          "metadata": {
            "tags": []
          },
          "execution_count": 10
        }
      ]
    },
    {
      "cell_type": "code",
      "metadata": {
        "id": "VG2rRHsuRoDU",
        "colab_type": "code",
        "colab": {
          "base_uri": "https://localhost:8080/",
          "height": 586
        },
        "outputId": "0be9bcd1-ed16-488d-e539-ac3a4532932a"
      },
      "source": [
        "sites['District'].value_counts() "
      ],
      "execution_count": 17,
      "outputs": [
        {
          "output_type": "execute_result",
          "data": {
            "text/plain": [
              "Nyamagabe     105\n",
              "Karongi       104\n",
              "Rusizi        101\n",
              "Rutsiro        96\n",
              "Nyamasheke     80\n",
              "Nyaruguru      78\n",
              "Kamonyi        72\n",
              "Gakenke        70\n",
              "Ngoma          67\n",
              "Burera         61\n",
              "Gicumbi        57\n",
              "Nyabihu        54\n",
              "Muhanga        47\n",
              "Rulindo        46\n",
              "Nyagatare      43\n",
              "Ngororero      42\n",
              "Nyanza         41\n",
              "Gisagara       39\n",
              "Musanze        31\n",
              "Huye           28\n",
              "Kayonza        27\n",
              "Rwamagana      27\n",
              "Rubavu         26\n",
              "Kirehe         23\n",
              "Nyarugenge     23\n",
              "Kicukiro       19\n",
              "Ruhango        18\n",
              "Gatsibo        18\n",
              "Bugesera       15\n",
              "Gasabo         14\n",
              "Name: District, dtype: int64"
            ]
          },
          "metadata": {
            "tags": []
          },
          "execution_count": 17
        }
      ]
    },
    {
      "cell_type": "code",
      "metadata": {
        "id": "Wza00sisRn-y",
        "colab_type": "code",
        "colab": {
          "base_uri": "https://localhost:8080/",
          "height": 237
        },
        "outputId": "9d003c96-5797-4f8f-bceb-7981a1515d21"
      },
      "source": [
        "sites['Sector'].value_counts() "
      ],
      "execution_count": 16,
      "outputs": [
        {
          "output_type": "execute_result",
          "data": {
            "text/plain": [
              "Nemba                                           28\n",
              "Rusebeya                                        25\n",
              "Karama                                          24\n",
              "Nyamiyaga                                       18\n",
              "Bwisige                                         15\n",
              "                                                ..\n",
              "Cyabakamyi-Musange                               1\n",
              "Rwaniro - Nyagisozi                              1\n",
              "Mukindo                                          1\n",
              "Between Muhororo Sector and Ngororero Sector     1\n",
              "Gashari                                          1\n",
              "Name: Sector, Length: 605, dtype: int64"
            ]
          },
          "metadata": {
            "tags": []
          },
          "execution_count": 16
        }
      ]
    },
    {
      "cell_type": "code",
      "metadata": {
        "id": "LbSJ-Y-4Rn6Z",
        "colab_type": "code",
        "colab": {
          "base_uri": "https://localhost:8080/",
          "height": 237
        },
        "outputId": "2c8b3338-f186-44ac-d289-9d5d35022f85"
      },
      "source": [
        "sites['Cell'].value_counts() "
      ],
      "execution_count": 13,
      "outputs": [
        {
          "output_type": "execute_result",
          "data": {
            "text/plain": [
              "Mataba               7\n",
              "Kabona               7\n",
              "Rubona               6\n",
              "Nyamihanda           6\n",
              "Murambi              6\n",
              "                    ..\n",
              "Taba/gihanga         1\n",
              "Cyumba - Mugombwa    1\n",
              "Mucaca/munyege       1\n",
              "Sekera               1\n",
              "kibogora~Raro        1\n",
              "Name: Cell, Length: 1117, dtype: int64"
            ]
          },
          "metadata": {
            "tags": []
          },
          "execution_count": 13
        }
      ]
    },
    {
      "cell_type": "code",
      "metadata": {
        "id": "LIn3Y6jfRn2B",
        "colab_type": "code",
        "colab": {
          "base_uri": "https://localhost:8080/",
          "height": 237
        },
        "outputId": "90832d8b-f353-4384-cb13-c9f35a93c51a"
      },
      "source": [
        "sites['Bridge Site Name'].value_counts() \n",
        "\n"
      ],
      "execution_count": 12,
      "outputs": [
        {
          "output_type": "execute_result",
          "data": {
            "text/plain": [
              "Gatare         8\n",
              "Gasharu        8\n",
              "Kagarama       7\n",
              "Murambi        7\n",
              "Gisiza         7\n",
              "              ..\n",
              "Muhora         1\n",
              "Rugenge        1\n",
              "Kinyempanda    1\n",
              "Mujerenge      1\n",
              "Mukibimba      1\n",
              "Name: Bridge Site Name, Length: 1184, dtype: int64"
            ]
          },
          "metadata": {
            "tags": []
          },
          "execution_count": 12
        }
      ]
    },
    {
      "cell_type": "code",
      "metadata": {
        "id": "if2v2UkXSe6x",
        "colab_type": "code",
        "colab": {
          "base_uri": "https://localhost:8080/",
          "height": 90
        },
        "outputId": "dd52d979-f1d2-44d0-a5cb-02a2f20749fc"
      },
      "source": [
        "sites['Bridge Type'].value_counts() "
      ],
      "execution_count": 18,
      "outputs": [
        {
          "output_type": "execute_result",
          "data": {
            "text/plain": [
              "Suspension    657\n",
              "Suspended     615\n",
              "Other          23\n",
              "Name: Bridge Type, dtype: int64"
            ]
          },
          "metadata": {
            "tags": []
          },
          "execution_count": 18
        }
      ]
    },
    {
      "cell_type": "code",
      "metadata": {
        "id": "ILgDOyvESe1_",
        "colab_type": "code",
        "colab": {
          "base_uri": "https://localhost:8080/",
          "height": 237
        },
        "outputId": "20ade1b3-b2dd-47f2-d016-d4e8764f2e4d"
      },
      "source": [
        "sites['Form: Form Name'].value_counts() "
      ],
      "execution_count": 19,
      "outputs": [
        {
          "output_type": "execute_result",
          "data": {
            "text/plain": [
              "Project Assessment - 2018.11.18    94\n",
              "Project Assessment - 2018.9.27     90\n",
              "Project Assessment - 2018.9.28     79\n",
              "Project Assessment - 2018.10.28    78\n",
              "Project Assessment - 2018.8.17     63\n",
              "                                   ..\n",
              "Project Assessment - 2017.7.12      1\n",
              "Project Assessment - 2017.8.16      1\n",
              "Project Assessment - 2018.7.25      1\n",
              "Project Assessment - 2018.8.6       1\n",
              "Project Assessment - 2019.11.14     1\n",
              "Name: Form: Form Name, Length: 84, dtype: int64"
            ]
          },
          "metadata": {
            "tags": []
          },
          "execution_count": 19
        }
      ]
    },
    {
      "cell_type": "code",
      "metadata": {
        "id": "sB1yKgFBSeyF",
        "colab_type": "code",
        "colab": {
          "base_uri": "https://localhost:8080/",
          "height": 237
        },
        "outputId": "595d2d1b-68e1-4f69-ee50-b572a470d7ae"
      },
      "source": [
        "sites['Project Code'].value_counts() "
      ],
      "execution_count": 20,
      "outputs": [
        {
          "output_type": "execute_result",
          "data": {
            "text/plain": [
              "1011307    3\n",
              "1007327    2\n",
              "1011310    2\n",
              "1007383    2\n",
              "1007427    2\n",
              "          ..\n",
              "1007647    1\n",
              "1014294    1\n",
              "1012984    1\n",
              "1014101    1\n",
              "1013983    1\n",
              "Name: Project Code, Length: 1423, dtype: int64"
            ]
          },
          "metadata": {
            "tags": []
          },
          "execution_count": 20
        }
      ]
    },
    {
      "cell_type": "code",
      "metadata": {
        "id": "JXNguSzjSes1",
        "colab_type": "code",
        "colab": {
          "base_uri": "https://localhost:8080/",
          "height": 237
        },
        "outputId": "6b614ac4-e24b-4d0d-cf93-15d5ea6ba8bf"
      },
      "source": [
        "sites['Community Served 2'].value_counts() "
      ],
      "execution_count": 21,
      "outputs": [
        {
          "output_type": "execute_result",
          "data": {
            "text/plain": [
              "Murambi      14\n",
              "Kigarama     13\n",
              "Gasharu       9\n",
              "Gatare        8\n",
              "Nyagasozi     8\n",
              "             ..\n",
              "Burega        1\n",
              "Jurwe         1\n",
              "Museke        1\n",
              "Nyabizi 2     1\n",
              "Winzira       1\n",
              "Name: Community Served 2, Length: 905, dtype: int64"
            ]
          },
          "metadata": {
            "tags": []
          },
          "execution_count": 21
        }
      ]
    },
    {
      "cell_type": "code",
      "metadata": {
        "id": "Unh24wxVSeoN",
        "colab_type": "code",
        "colab": {
          "base_uri": "https://localhost:8080/",
          "height": 237
        },
        "outputId": "3e2406d1-14fd-47cd-eecb-34ba9dfc9f41"
      },
      "source": [
        "sites['CaseSafeID Form'].value_counts() "
      ],
      "execution_count": 22,
      "outputs": [
        {
          "output_type": "execute_result",
          "data": {
            "text/plain": [
              "a1if1000002WP7tAAG    1\n",
              "a1if1000002YkhiAAC    1\n",
              "a1if1000002ViWmAAK    1\n",
              "a1if1000002gb6cAAA    1\n",
              "a1if1000002n1JIAAY    1\n",
              "                     ..\n",
              "a1if1000002mwMQAAY    1\n",
              "a1if1000002Vn2qAAC    1\n",
              "a1if1000002fmvKAAQ    1\n",
              "a1if10000023mWqAAI    1\n",
              "a1if1000002YAHrAAO    1\n",
              "Name: CaseSafeID Form, Length: 1472, dtype: int64"
            ]
          },
          "metadata": {
            "tags": []
          },
          "execution_count": 22
        }
      ]
    },
    {
      "cell_type": "code",
      "metadata": {
        "id": "ABDLrnC6SeeM",
        "colab_type": "code",
        "colab": {}
      },
      "source": [
        ""
      ],
      "execution_count": null,
      "outputs": []
    },
    {
      "cell_type": "markdown",
      "metadata": {
        "id": "DSoJXfpERm3x",
        "colab_type": "text"
      },
      "source": [
        "Summary of bridge sites data: 27 columns, 1472 samples(rows). Gives informations about : \"'Country', 'Province', 'District', 'Sector', 'Cell', 'Bridge Site Name', 'Project Stage', 'Project Sub-Stage', 'Project Code', 'Bridge Type', ' Span (m)', ' GPS (Latitude)', 'GPS (Longitude)', 'Individuals Directly Served', 'Form: Form Name', 'Community Served 1', 'Community Served 2', 'Community Served 3', 'Community Served 4', 'Community Served 5', 'Community Served 6', 'Community Served 7', 'Community Served 8', 'Community Served 9', 'Community Served 10', 'CaseSafeID Form', 'Bridge Opportunity: Opportunity ID'\"\n",
        "\n",
        "\n",
        "There are 6  categories in project stage of bridges.\n",
        "Rejected              1166\n",
        "Identified             237\n",
        "Complete                40\n",
        "Prospecting             15\n",
        "Confirmed                7\n",
        "Under Construction       7\n",
        "\n"
      ]
    },
    {
      "cell_type": "code",
      "metadata": {
        "id": "knAcOgkXRcm_",
        "colab_type": "code",
        "colab": {
          "base_uri": "https://localhost:8080/",
          "height": 206
        },
        "outputId": "01d4649b-4c7e-447b-f1e3-9f3d08854308"
      },
      "source": [
        "import pandas as pd\n",
        "villages=pd.read_csv('https://raw.githubusercontent.com/Lord-Kanzler/Labs25_B2P/master/data/raw/Rwanda_Administrative_Levels_and_Codes_Province_through_Village.csv')\n",
        "villages.head()"
      ],
      "execution_count": 9,
      "outputs": [
        {
          "output_type": "execute_result",
          "data": {
            "text/html": [
              "<div>\n",
              "<style scoped>\n",
              "    .dataframe tbody tr th:only-of-type {\n",
              "        vertical-align: middle;\n",
              "    }\n",
              "\n",
              "    .dataframe tbody tr th {\n",
              "        vertical-align: top;\n",
              "    }\n",
              "\n",
              "    .dataframe thead th {\n",
              "        text-align: right;\n",
              "    }\n",
              "</style>\n",
              "<table border=\"1\" class=\"dataframe\">\n",
              "  <thead>\n",
              "    <tr style=\"text-align: right;\">\n",
              "      <th></th>\n",
              "      <th>Prov_ID</th>\n",
              "      <th>Province</th>\n",
              "      <th>Dist_ID</th>\n",
              "      <th>District</th>\n",
              "      <th>Sect_ID</th>\n",
              "      <th>Sector</th>\n",
              "      <th>Cell_ID</th>\n",
              "      <th>Cell</th>\n",
              "      <th>Vill_ID</th>\n",
              "      <th>Village</th>\n",
              "      <th>Status</th>\n",
              "      <th>FID</th>\n",
              "    </tr>\n",
              "  </thead>\n",
              "  <tbody>\n",
              "    <tr>\n",
              "      <th>0</th>\n",
              "      <td>2</td>\n",
              "      <td>Amajyepfo</td>\n",
              "      <td>22</td>\n",
              "      <td>Gisagara</td>\n",
              "      <td>2205</td>\n",
              "      <td>Kigembe</td>\n",
              "      <td>220501</td>\n",
              "      <td>Agahabwa</td>\n",
              "      <td>22050101</td>\n",
              "      <td>Agahehe</td>\n",
              "      <td>Rural</td>\n",
              "      <td>1842</td>\n",
              "    </tr>\n",
              "    <tr>\n",
              "      <th>1</th>\n",
              "      <td>2</td>\n",
              "      <td>Amajyepfo</td>\n",
              "      <td>22</td>\n",
              "      <td>Gisagara</td>\n",
              "      <td>2205</td>\n",
              "      <td>Kigembe</td>\n",
              "      <td>220501</td>\n",
              "      <td>Agahabwa</td>\n",
              "      <td>22050102</td>\n",
              "      <td>Kabacuzi</td>\n",
              "      <td>Rural</td>\n",
              "      <td>1846</td>\n",
              "    </tr>\n",
              "    <tr>\n",
              "      <th>2</th>\n",
              "      <td>2</td>\n",
              "      <td>Amajyepfo</td>\n",
              "      <td>22</td>\n",
              "      <td>Gisagara</td>\n",
              "      <td>2205</td>\n",
              "      <td>Kigembe</td>\n",
              "      <td>220501</td>\n",
              "      <td>Agahabwa</td>\n",
              "      <td>22050103</td>\n",
              "      <td>Kamutozo</td>\n",
              "      <td>Rural</td>\n",
              "      <td>1854</td>\n",
              "    </tr>\n",
              "    <tr>\n",
              "      <th>3</th>\n",
              "      <td>2</td>\n",
              "      <td>Amajyepfo</td>\n",
              "      <td>22</td>\n",
              "      <td>Gisagara</td>\n",
              "      <td>2205</td>\n",
              "      <td>Kigembe</td>\n",
              "      <td>220501</td>\n",
              "      <td>Agahabwa</td>\n",
              "      <td>22050104</td>\n",
              "      <td>Kamweko</td>\n",
              "      <td>Rural</td>\n",
              "      <td>1866</td>\n",
              "    </tr>\n",
              "    <tr>\n",
              "      <th>4</th>\n",
              "      <td>2</td>\n",
              "      <td>Amajyepfo</td>\n",
              "      <td>22</td>\n",
              "      <td>Gisagara</td>\n",
              "      <td>2205</td>\n",
              "      <td>Kigembe</td>\n",
              "      <td>220501</td>\n",
              "      <td>Agahabwa</td>\n",
              "      <td>22050105</td>\n",
              "      <td>Nyamabuye</td>\n",
              "      <td>Rural</td>\n",
              "      <td>1873</td>\n",
              "    </tr>\n",
              "  </tbody>\n",
              "</table>\n",
              "</div>"
            ],
            "text/plain": [
              "   Prov_ID   Province  Dist_ID  District  ...   Vill_ID    Village  Status   FID\n",
              "0        2  Amajyepfo       22  Gisagara  ...  22050101    Agahehe   Rural  1842\n",
              "1        2  Amajyepfo       22  Gisagara  ...  22050102   Kabacuzi   Rural  1846\n",
              "2        2  Amajyepfo       22  Gisagara  ...  22050103   Kamutozo   Rural  1854\n",
              "3        2  Amajyepfo       22  Gisagara  ...  22050104    Kamweko   Rural  1866\n",
              "4        2  Amajyepfo       22  Gisagara  ...  22050105  Nyamabuye   Rural  1873\n",
              "\n",
              "[5 rows x 12 columns]"
            ]
          },
          "metadata": {
            "tags": []
          },
          "execution_count": 9
        }
      ]
    },
    {
      "cell_type": "code",
      "metadata": {
        "id": "yk9oFiwIT_Xd",
        "colab_type": "code",
        "colab": {
          "base_uri": "https://localhost:8080/",
          "height": 35
        },
        "outputId": "32b11723-b3d4-4c15-d5af-25177d10ce8a"
      },
      "source": [
        "villages.shape"
      ],
      "execution_count": null,
      "outputs": [
        {
          "output_type": "execute_result",
          "data": {
            "text/plain": [
              "(14816, 12)"
            ]
          },
          "metadata": {
            "tags": []
          },
          "execution_count": 6
        }
      ]
    },
    {
      "cell_type": "code",
      "metadata": {
        "id": "CQQMnW58T_UE",
        "colab_type": "code",
        "colab": {
          "base_uri": "https://localhost:8080/",
          "height": 239
        },
        "outputId": "319ded2d-4d52-4a7d-fb75-2ad295a60b8f"
      },
      "source": [
        "villages.columns.to_list()"
      ],
      "execution_count": null,
      "outputs": [
        {
          "output_type": "execute_result",
          "data": {
            "text/plain": [
              "['Prov_ID',\n",
              " 'Province',\n",
              " 'Dist_ID',\n",
              " 'District',\n",
              " 'Sect_ID',\n",
              " 'Sector',\n",
              " 'Cell_ID',\n",
              " 'Cell',\n",
              " 'Vill_ID',\n",
              " 'Village',\n",
              " 'Status',\n",
              " 'FID']"
            ]
          },
          "metadata": {
            "tags": []
          },
          "execution_count": 7
        }
      ]
    },
    {
      "cell_type": "code",
      "metadata": {
        "id": "9X5ztS_4T_RG",
        "colab_type": "code",
        "colab": {
          "base_uri": "https://localhost:8080/",
          "height": 127
        },
        "outputId": "8d43ce51-d7ea-4496-def3-2436136e3522"
      },
      "source": [
        " villages['Province'].value_counts()\n",
        "\n",
        " "
      ],
      "execution_count": 23,
      "outputs": [
        {
          "output_type": "execute_result",
          "data": {
            "text/plain": [
              "Iburasirazuba       3791\n",
              "Iburengerazuba      3617\n",
              "Amajyepfo           3501\n",
              "Amajyaruguru        2744\n",
              "Umujyi wa Kigali    1163\n",
              "Name: Province, dtype: int64"
            ]
          },
          "metadata": {
            "tags": []
          },
          "execution_count": 23
        }
      ]
    },
    {
      "cell_type": "code",
      "metadata": {
        "id": "uDapKSh1T_Ll",
        "colab_type": "code",
        "colab": {
          "base_uri": "https://localhost:8080/",
          "height": 586
        },
        "outputId": "3cb67cf9-9ada-42e6-8264-8503d56bcbd6"
      },
      "source": [
        " villages['District'].value_counts()"
      ],
      "execution_count": 30,
      "outputs": [
        {
          "output_type": "execute_result",
          "data": {
            "text/plain": [
              "Gicumbi       630\n",
              "Nyagatare     628\n",
              "Gakenke       617\n",
              "Kirehe        612\n",
              "Gatsibo       602\n",
              "Rusizi        596\n",
              "Nyamasheke    588\n",
              "Bugesera      581\n",
              "Burera        571\n",
              "Karongi       538\n",
              "Nyamagabe     536\n",
              "Ruhango       533\n",
              "Gisagara      524\n",
              "Rubavu        519\n",
              "Huye          508\n",
              "Rulindo       494\n",
              "Gasabo        486\n",
              "Rutsiro       484\n",
              "Rwamagana     474\n",
              "Nyabihu       473\n",
              "Ngoma         473\n",
              "Musanze       432\n",
              "Kayonza       421\n",
              "Nyanza        420\n",
              "Ngororero     419\n",
              "Nyarugenge    350\n",
              "Nyaruguru     332\n",
              "Muhanga       331\n",
              "Kicukiro      327\n",
              "Kamonyi       317\n",
              "Name: District, dtype: int64"
            ]
          },
          "metadata": {
            "tags": []
          },
          "execution_count": 30
        }
      ]
    },
    {
      "cell_type": "code",
      "metadata": {
        "id": "FVqoDaufRci8",
        "colab_type": "code",
        "colab": {
          "base_uri": "https://localhost:8080/",
          "height": 237
        },
        "outputId": "b80f7afe-cddb-49bf-e914-20c3afe11afe"
      },
      "source": [
        "villages['Sector'].value_counts()"
      ],
      "execution_count": 29,
      "outputs": [
        {
          "output_type": "execute_result",
          "data": {
            "text/plain": [
              "Ruhango       165\n",
              "Remera        131\n",
              "Muganza       113\n",
              "Kigoma        112\n",
              "Busasamana    107\n",
              "             ... \n",
              "Kagarama       15\n",
              "Rwezamenyo     15\n",
              "Kayumbu        15\n",
              "Gisozi         14\n",
              "Mageragere      1\n",
              "Name: Sector, Length: 388, dtype: int64"
            ]
          },
          "metadata": {
            "tags": []
          },
          "execution_count": 29
        }
      ]
    },
    {
      "cell_type": "code",
      "metadata": {
        "id": "kXz2-QbrRce0",
        "colab_type": "code",
        "colab": {
          "base_uri": "https://localhost:8080/",
          "height": 72
        },
        "outputId": "08564ad4-cfd7-457a-a282-38acfe82b3bd"
      },
      "source": [
        "villages['Status'].value_counts()"
      ],
      "execution_count": 28,
      "outputs": [
        {
          "output_type": "execute_result",
          "data": {
            "text/plain": [
              "Rural    13209\n",
              "Urban     1607\n",
              "Name: Status, dtype: int64"
            ]
          },
          "metadata": {
            "tags": []
          },
          "execution_count": 28
        }
      ]
    },
    {
      "cell_type": "code",
      "metadata": {
        "id": "TJ_bEALGRcaN",
        "colab_type": "code",
        "colab": {
          "base_uri": "https://localhost:8080/",
          "height": 237
        },
        "outputId": "ad329764-1d0c-4cd9-9d34-5bd7601ca437"
      },
      "source": [
        "villages['Village'].value_counts()"
      ],
      "execution_count": 26,
      "outputs": [
        {
          "output_type": "execute_result",
          "data": {
            "text/plain": [
              "Kabeza        148\n",
              "Rugarama      122\n",
              "Murambi       119\n",
              "Kigarama      113\n",
              "Rebero        103\n",
              "             ... \n",
              "Kiranga         1\n",
              "Shyanda         1\n",
              "Kiramuruzi      1\n",
              "Ntaganzwa       1\n",
              "Bigutu          1\n",
              "Name: Village, Length: 6599, dtype: int64"
            ]
          },
          "metadata": {
            "tags": []
          },
          "execution_count": 26
        }
      ]
    },
    {
      "cell_type": "code",
      "metadata": {
        "id": "NojJAQqCWbar",
        "colab_type": "code",
        "colab": {
          "base_uri": "https://localhost:8080/",
          "height": 237
        },
        "outputId": "daa4c91b-4fa9-4a6e-9e5e-165e2395de13"
      },
      "source": [
        "villages['FID'].value_counts()"
      ],
      "execution_count": 25,
      "outputs": [
        {
          "output_type": "execute_result",
          "data": {
            "text/plain": [
              "2047     1\n",
              "8849     1\n",
              "4743     1\n",
              "6790     1\n",
              "645      1\n",
              "        ..\n",
              "1338     1\n",
              "7481     1\n",
              "5432     1\n",
              "11567    1\n",
              "2049     1\n",
              "Name: FID, Length: 14816, dtype: int64"
            ]
          },
          "metadata": {
            "tags": []
          },
          "execution_count": 25
        }
      ]
    },
    {
      "cell_type": "code",
      "metadata": {
        "id": "bUHNonq4WbRv",
        "colab_type": "code",
        "colab": {}
      },
      "source": [
        ""
      ],
      "execution_count": null,
      "outputs": []
    },
    {
      "cell_type": "code",
      "metadata": {
        "id": "cZE8tpoXWbNX",
        "colab_type": "code",
        "colab": {}
      },
      "source": [
        ""
      ],
      "execution_count": null,
      "outputs": []
    },
    {
      "cell_type": "code",
      "metadata": {
        "id": "-0Jd3_aJWbIc",
        "colab_type": "code",
        "colab": {}
      },
      "source": [
        ""
      ],
      "execution_count": null,
      "outputs": []
    }
  ]
}