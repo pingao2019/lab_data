{
  "nbformat": 4,
  "nbformat_minor": 0,
  "metadata": {
    "colab": {
      "name": "dataset_bridge_to_property1.ipynb",
      "provenance": [],
      "collapsed_sections": [],
      "authorship_tag": "ABX9TyPj/WDiClFOT+zKjS3GL/E/",
      "include_colab_link": true
    },
    "kernelspec": {
      "name": "python3",
      "display_name": "Python 3"
    }
  },
  "cells": [
    {
      "cell_type": "markdown",
      "metadata": {
        "id": "view-in-github",
        "colab_type": "text"
      },
      "source": [
        "<a href=\"https://colab.research.google.com/github/pingao2019/lab_data/blob/master/dataset_bridge_to_property1.ipynb\" target=\"_parent\"><img src=\"https://colab.research.google.com/assets/colab-badge.svg\" alt=\"Open In Colab\"/></a>"
      ]
    },
    {
      "cell_type": "code",
      "metadata": {
        "id": "_Kj6S5kiQ5Ai",
        "colab_type": "code",
        "colab": {
          "base_uri": "https://localhost:8080/",
          "height": 452
        },
        "outputId": "ad3c8e56-bcb2-4b8c-8c21-aab6a7a278c9"
      },
      "source": [
        "import pandas as pd\n",
        "sites=pd.read_excel(\"/content/B2P-RwandaSiteAssessment.xlsx\")\n",
        "sites.head()"
      ],
      "execution_count": 1,
      "outputs": [
        {
          "output_type": "execute_result",
          "data": {
            "text/html": [
              "<div>\n",
              "<style scoped>\n",
              "    .dataframe tbody tr th:only-of-type {\n",
              "        vertical-align: middle;\n",
              "    }\n",
              "\n",
              "    .dataframe tbody tr th {\n",
              "        vertical-align: top;\n",
              "    }\n",
              "\n",
              "    .dataframe thead th {\n",
              "        text-align: right;\n",
              "    }\n",
              "</style>\n",
              "<table border=\"1\" class=\"dataframe\">\n",
              "  <thead>\n",
              "    <tr style=\"text-align: right;\">\n",
              "      <th></th>\n",
              "      <th>Country</th>\n",
              "      <th>Province</th>\n",
              "      <th>District</th>\n",
              "      <th>Sector</th>\n",
              "      <th>Cell</th>\n",
              "      <th>Bridge Site Name</th>\n",
              "      <th>Project Stage</th>\n",
              "      <th>Project Sub-Stage</th>\n",
              "      <th>Project Code</th>\n",
              "      <th>Bridge Type</th>\n",
              "      <th>Span (m)</th>\n",
              "      <th>GPS (Latitude)</th>\n",
              "      <th>GPS (Longitude)</th>\n",
              "      <th>Individuals Directly Served</th>\n",
              "      <th>Form: Form Name</th>\n",
              "      <th>Community Served 1</th>\n",
              "      <th>Community Served 2</th>\n",
              "      <th>Community Served 3</th>\n",
              "      <th>Community Served 4</th>\n",
              "      <th>Community Served 5</th>\n",
              "      <th>Community Served 6</th>\n",
              "      <th>Community Served 7</th>\n",
              "      <th>Community Served 8</th>\n",
              "      <th>Community Served 9</th>\n",
              "      <th>Community Served 10</th>\n",
              "      <th>CaseSafeID Form</th>\n",
              "      <th>Bridge Opportunity: Opportunity ID</th>\n",
              "    </tr>\n",
              "  </thead>\n",
              "  <tbody>\n",
              "    <tr>\n",
              "      <th>0</th>\n",
              "      <td>Rwanda</td>\n",
              "      <td>Western Province</td>\n",
              "      <td>Rusizi</td>\n",
              "      <td>Giheke</td>\n",
              "      <td>Gakomeye</td>\n",
              "      <td>Buzi</td>\n",
              "      <td>Rejected</td>\n",
              "      <td>Technical</td>\n",
              "      <td>1014107</td>\n",
              "      <td>Suspended</td>\n",
              "      <td>NaN</td>\n",
              "      <td>-2.420560</td>\n",
              "      <td>28.966200</td>\n",
              "      <td>NaN</td>\n",
              "      <td>Project Assessment - 2018.10.29</td>\n",
              "      <td>Buzi</td>\n",
              "      <td>Kabuga</td>\n",
              "      <td>Kagarama</td>\n",
              "      <td>Gacyamo</td>\n",
              "      <td>Gasheke</td>\n",
              "      <td>NaN</td>\n",
              "      <td>NaN</td>\n",
              "      <td>NaN</td>\n",
              "      <td>NaN</td>\n",
              "      <td>NaN</td>\n",
              "      <td>a1if1000002e51bAAA</td>\n",
              "      <td>006f100000d1fk1</td>\n",
              "    </tr>\n",
              "    <tr>\n",
              "      <th>1</th>\n",
              "      <td>Rwanda</td>\n",
              "      <td>Western Province</td>\n",
              "      <td>Rusizi</td>\n",
              "      <td>Giheke</td>\n",
              "      <td>Gakomeye</td>\n",
              "      <td>Kamigisha</td>\n",
              "      <td>Rejected</td>\n",
              "      <td>Technical</td>\n",
              "      <td>1014106</td>\n",
              "      <td>Suspended</td>\n",
              "      <td>NaN</td>\n",
              "      <td>-2.424860</td>\n",
              "      <td>28.957260</td>\n",
              "      <td>NaN</td>\n",
              "      <td>Project Assessment - 2018.10.29</td>\n",
              "      <td>Kabuga</td>\n",
              "      <td>Buzi</td>\n",
              "      <td>Gacyamo - Gasheke</td>\n",
              "      <td>Kagarama</td>\n",
              "      <td>Kanoga</td>\n",
              "      <td>NaN</td>\n",
              "      <td>NaN</td>\n",
              "      <td>NaN</td>\n",
              "      <td>NaN</td>\n",
              "      <td>NaN</td>\n",
              "      <td>a1if1000002e51WAAQ</td>\n",
              "      <td>006f100000d1fjw</td>\n",
              "    </tr>\n",
              "    <tr>\n",
              "      <th>2</th>\n",
              "      <td>Rwanda</td>\n",
              "      <td>Northern Province</td>\n",
              "      <td>Rulindo</td>\n",
              "      <td>Buyoga</td>\n",
              "      <td>Gahororo-Gipfundo</td>\n",
              "      <td>Gipfundo</td>\n",
              "      <td>Rejected</td>\n",
              "      <td>Technical</td>\n",
              "      <td>1007651</td>\n",
              "      <td>Suspended</td>\n",
              "      <td>8.0</td>\n",
              "      <td>-1.720530</td>\n",
              "      <td>30.081240</td>\n",
              "      <td>NaN</td>\n",
              "      <td>Project Assessment - 2018.8.11</td>\n",
              "      <td>Gapfundo</td>\n",
              "      <td>Rusabira ( Gicumbi)</td>\n",
              "      <td>Merezo</td>\n",
              "      <td>Minanire</td>\n",
              "      <td>Karutongo</td>\n",
              "      <td>NaN</td>\n",
              "      <td>NaN</td>\n",
              "      <td>NaN</td>\n",
              "      <td>NaN</td>\n",
              "      <td>NaN</td>\n",
              "      <td>a1if10000025nz8AAA</td>\n",
              "      <td>006f100000a86I3</td>\n",
              "    </tr>\n",
              "    <tr>\n",
              "      <th>3</th>\n",
              "      <td>Rwanda</td>\n",
              "      <td>Northern Province</td>\n",
              "      <td>Gicumbi</td>\n",
              "      <td>Kageyo</td>\n",
              "      <td>Kabuga/gatobotobo</td>\n",
              "      <td>Nyarubande</td>\n",
              "      <td>Rejected</td>\n",
              "      <td>NaN</td>\n",
              "      <td>1012493</td>\n",
              "      <td>Other</td>\n",
              "      <td>NaN</td>\n",
              "      <td>-1.655950</td>\n",
              "      <td>30.078840</td>\n",
              "      <td>NaN</td>\n",
              "      <td>Project Assessment - 2018.8.11</td>\n",
              "      <td>NaN</td>\n",
              "      <td>NaN</td>\n",
              "      <td>NaN</td>\n",
              "      <td>NaN</td>\n",
              "      <td>NaN</td>\n",
              "      <td>NaN</td>\n",
              "      <td>NaN</td>\n",
              "      <td>NaN</td>\n",
              "      <td>NaN</td>\n",
              "      <td>NaN</td>\n",
              "      <td>a1if10000025nzDAAQ</td>\n",
              "      <td>006f100000cPpL8</td>\n",
              "    </tr>\n",
              "    <tr>\n",
              "      <th>4</th>\n",
              "      <td>Rwanda</td>\n",
              "      <td>Southern Province</td>\n",
              "      <td>Kamonyi</td>\n",
              "      <td>Kayenzi</td>\n",
              "      <td>Kirwa</td>\n",
              "      <td>Gisizi</td>\n",
              "      <td>Identified</td>\n",
              "      <td>Requested</td>\n",
              "      <td>1014318</td>\n",
              "      <td>Suspended</td>\n",
              "      <td>NaN</td>\n",
              "      <td>-1.870868</td>\n",
              "      <td>29.877686</td>\n",
              "      <td>NaN</td>\n",
              "      <td>Project Assessment - 2018.11.15</td>\n",
              "      <td>Gisizi</td>\n",
              "      <td>Nyabitare</td>\n",
              "      <td>NaN</td>\n",
              "      <td>NaN</td>\n",
              "      <td>NaN</td>\n",
              "      <td>NaN</td>\n",
              "      <td>NaN</td>\n",
              "      <td>NaN</td>\n",
              "      <td>NaN</td>\n",
              "      <td>NaN</td>\n",
              "      <td>a1if1000002gMwRAAU</td>\n",
              "      <td>006f100000eescb</td>\n",
              "    </tr>\n",
              "  </tbody>\n",
              "</table>\n",
              "</div>"
            ],
            "text/plain": [
              "  Country  ... Bridge Opportunity: Opportunity ID\n",
              "0  Rwanda  ...                    006f100000d1fk1\n",
              "1  Rwanda  ...                    006f100000d1fjw\n",
              "2  Rwanda  ...                    006f100000a86I3\n",
              "3  Rwanda  ...                    006f100000cPpL8\n",
              "4  Rwanda  ...                    006f100000eescb\n",
              "\n",
              "[5 rows x 27 columns]"
            ]
          },
          "metadata": {
            "tags": []
          },
          "execution_count": 1
        }
      ]
    },
    {
      "cell_type": "markdown",
      "metadata": {
        "id": "dRy9lo-3RlVc",
        "colab_type": "text"
      },
      "source": [
        ""
      ]
    },
    {
      "cell_type": "code",
      "metadata": {
        "id": "q0EyKrOQRcuZ",
        "colab_type": "code",
        "colab": {
          "base_uri": "https://localhost:8080/",
          "height": 35
        },
        "outputId": "1db8f09a-4f0b-4be9-925c-5eeab6298e6f"
      },
      "source": [
        "sites.shape"
      ],
      "execution_count": 2,
      "outputs": [
        {
          "output_type": "execute_result",
          "data": {
            "text/plain": [
              "(1472, 27)"
            ]
          },
          "metadata": {
            "tags": []
          },
          "execution_count": 2
        }
      ]
    },
    {
      "cell_type": "code",
      "metadata": {
        "id": "rd2J4GLdRcq8",
        "colab_type": "code",
        "colab": {
          "base_uri": "https://localhost:8080/",
          "height": 516
        },
        "outputId": "40888871-b711-425f-ed3a-5eb516a105f4"
      },
      "source": [
        "sites.columns.to_list()"
      ],
      "execution_count": 3,
      "outputs": [
        {
          "output_type": "execute_result",
          "data": {
            "text/plain": [
              "['Country',\n",
              " 'Province',\n",
              " 'District',\n",
              " 'Sector',\n",
              " 'Cell',\n",
              " 'Bridge Site Name',\n",
              " 'Project Stage',\n",
              " 'Project Sub-Stage',\n",
              " 'Project Code',\n",
              " 'Bridge Type',\n",
              " ' Span (m)',\n",
              " ' GPS (Latitude)',\n",
              " 'GPS (Longitude)',\n",
              " 'Individuals Directly Served',\n",
              " 'Form: Form Name',\n",
              " 'Community Served 1',\n",
              " 'Community Served 2',\n",
              " 'Community Served 3',\n",
              " 'Community Served 4',\n",
              " 'Community Served 5',\n",
              " 'Community Served 6',\n",
              " 'Community Served 7',\n",
              " 'Community Served 8',\n",
              " 'Community Served 9',\n",
              " 'Community Served 10',\n",
              " 'CaseSafeID Form',\n",
              " 'Bridge Opportunity: Opportunity ID']"
            ]
          },
          "metadata": {
            "tags": []
          },
          "execution_count": 3
        }
      ]
    },
    {
      "cell_type": "markdown",
      "metadata": {
        "id": "DSoJXfpERm3x",
        "colab_type": "text"
      },
      "source": [
        "Summary of bridge sites data: 27 columns, 1472 samples(rows). Gives informations about : \"'Country', 'Province', 'District', 'Sector', 'Cell', 'Bridge Site Name', 'Project Stage', 'Project Sub-Stage', 'Project Code', 'Bridge Type', ' Span (m)', ' GPS (Latitude)', 'GPS (Longitude)', 'Individuals Directly Served', 'Form: Form Name', 'Community Served 1', 'Community Served 2', 'Community Served 3', 'Community Served 4', 'Community Served 5', 'Community Served 6', 'Community Served 7', 'Community Served 8', 'Community Served 9', 'Community Served 10', 'CaseSafeID Form', 'Bridge Opportunity: Opportunity ID'\""
      ]
    },
    {
      "cell_type": "code",
      "metadata": {
        "id": "knAcOgkXRcm_",
        "colab_type": "code",
        "colab": {
          "base_uri": "https://localhost:8080/",
          "height": 206
        },
        "outputId": "f1b64f59-bedb-4db5-f5f6-b4b10bc04c4a"
      },
      "source": [
        "import pandas as pd\n",
        "villages=pd.read_excel(\"/content/Rwanda-AdministrativeVillage .xlsx\")\n",
        "villages.head()"
      ],
      "execution_count": 5,
      "outputs": [
        {
          "output_type": "execute_result",
          "data": {
            "text/html": [
              "<div>\n",
              "<style scoped>\n",
              "    .dataframe tbody tr th:only-of-type {\n",
              "        vertical-align: middle;\n",
              "    }\n",
              "\n",
              "    .dataframe tbody tr th {\n",
              "        vertical-align: top;\n",
              "    }\n",
              "\n",
              "    .dataframe thead th {\n",
              "        text-align: right;\n",
              "    }\n",
              "</style>\n",
              "<table border=\"1\" class=\"dataframe\">\n",
              "  <thead>\n",
              "    <tr style=\"text-align: right;\">\n",
              "      <th></th>\n",
              "      <th>Prov_ID</th>\n",
              "      <th>Province</th>\n",
              "      <th>Dist_ID</th>\n",
              "      <th>District</th>\n",
              "      <th>Sect_ID</th>\n",
              "      <th>Sector</th>\n",
              "      <th>Cell_ID</th>\n",
              "      <th>Cell</th>\n",
              "      <th>Vill_ID</th>\n",
              "      <th>Village</th>\n",
              "      <th>Status</th>\n",
              "      <th>FID</th>\n",
              "    </tr>\n",
              "  </thead>\n",
              "  <tbody>\n",
              "    <tr>\n",
              "      <th>0</th>\n",
              "      <td>2</td>\n",
              "      <td>Amajyepfo</td>\n",
              "      <td>22</td>\n",
              "      <td>Gisagara</td>\n",
              "      <td>2205</td>\n",
              "      <td>Kigembe</td>\n",
              "      <td>220501</td>\n",
              "      <td>Agahabwa</td>\n",
              "      <td>22050101</td>\n",
              "      <td>Agahehe</td>\n",
              "      <td>Rural</td>\n",
              "      <td>1842</td>\n",
              "    </tr>\n",
              "    <tr>\n",
              "      <th>1</th>\n",
              "      <td>2</td>\n",
              "      <td>Amajyepfo</td>\n",
              "      <td>22</td>\n",
              "      <td>Gisagara</td>\n",
              "      <td>2205</td>\n",
              "      <td>Kigembe</td>\n",
              "      <td>220501</td>\n",
              "      <td>Agahabwa</td>\n",
              "      <td>22050102</td>\n",
              "      <td>Kabacuzi</td>\n",
              "      <td>Rural</td>\n",
              "      <td>1846</td>\n",
              "    </tr>\n",
              "    <tr>\n",
              "      <th>2</th>\n",
              "      <td>2</td>\n",
              "      <td>Amajyepfo</td>\n",
              "      <td>22</td>\n",
              "      <td>Gisagara</td>\n",
              "      <td>2205</td>\n",
              "      <td>Kigembe</td>\n",
              "      <td>220501</td>\n",
              "      <td>Agahabwa</td>\n",
              "      <td>22050103</td>\n",
              "      <td>Kamutozo</td>\n",
              "      <td>Rural</td>\n",
              "      <td>1854</td>\n",
              "    </tr>\n",
              "    <tr>\n",
              "      <th>3</th>\n",
              "      <td>2</td>\n",
              "      <td>Amajyepfo</td>\n",
              "      <td>22</td>\n",
              "      <td>Gisagara</td>\n",
              "      <td>2205</td>\n",
              "      <td>Kigembe</td>\n",
              "      <td>220501</td>\n",
              "      <td>Agahabwa</td>\n",
              "      <td>22050104</td>\n",
              "      <td>Kamweko</td>\n",
              "      <td>Rural</td>\n",
              "      <td>1866</td>\n",
              "    </tr>\n",
              "    <tr>\n",
              "      <th>4</th>\n",
              "      <td>2</td>\n",
              "      <td>Amajyepfo</td>\n",
              "      <td>22</td>\n",
              "      <td>Gisagara</td>\n",
              "      <td>2205</td>\n",
              "      <td>Kigembe</td>\n",
              "      <td>220501</td>\n",
              "      <td>Agahabwa</td>\n",
              "      <td>22050105</td>\n",
              "      <td>Nyamabuye</td>\n",
              "      <td>Rural</td>\n",
              "      <td>1873</td>\n",
              "    </tr>\n",
              "  </tbody>\n",
              "</table>\n",
              "</div>"
            ],
            "text/plain": [
              "   Prov_ID   Province  Dist_ID  District  ...   Vill_ID    Village  Status   FID\n",
              "0        2  Amajyepfo       22  Gisagara  ...  22050101    Agahehe   Rural  1842\n",
              "1        2  Amajyepfo       22  Gisagara  ...  22050102   Kabacuzi   Rural  1846\n",
              "2        2  Amajyepfo       22  Gisagara  ...  22050103   Kamutozo   Rural  1854\n",
              "3        2  Amajyepfo       22  Gisagara  ...  22050104    Kamweko   Rural  1866\n",
              "4        2  Amajyepfo       22  Gisagara  ...  22050105  Nyamabuye   Rural  1873\n",
              "\n",
              "[5 rows x 12 columns]"
            ]
          },
          "metadata": {
            "tags": []
          },
          "execution_count": 5
        }
      ]
    },
    {
      "cell_type": "code",
      "metadata": {
        "id": "yk9oFiwIT_Xd",
        "colab_type": "code",
        "colab": {
          "base_uri": "https://localhost:8080/",
          "height": 35
        },
        "outputId": "32b11723-b3d4-4c15-d5af-25177d10ce8a"
      },
      "source": [
        "villages.shape"
      ],
      "execution_count": 6,
      "outputs": [
        {
          "output_type": "execute_result",
          "data": {
            "text/plain": [
              "(14816, 12)"
            ]
          },
          "metadata": {
            "tags": []
          },
          "execution_count": 6
        }
      ]
    },
    {
      "cell_type": "code",
      "metadata": {
        "id": "CQQMnW58T_UE",
        "colab_type": "code",
        "colab": {
          "base_uri": "https://localhost:8080/",
          "height": 239
        },
        "outputId": "319ded2d-4d52-4a7d-fb75-2ad295a60b8f"
      },
      "source": [
        "villages.columns.to_list()"
      ],
      "execution_count": 7,
      "outputs": [
        {
          "output_type": "execute_result",
          "data": {
            "text/plain": [
              "['Prov_ID',\n",
              " 'Province',\n",
              " 'Dist_ID',\n",
              " 'District',\n",
              " 'Sect_ID',\n",
              " 'Sector',\n",
              " 'Cell_ID',\n",
              " 'Cell',\n",
              " 'Vill_ID',\n",
              " 'Village',\n",
              " 'Status',\n",
              " 'FID']"
            ]
          },
          "metadata": {
            "tags": []
          },
          "execution_count": 7
        }
      ]
    },
    {
      "cell_type": "code",
      "metadata": {
        "id": "9X5ztS_4T_RG",
        "colab_type": "code",
        "colab": {}
      },
      "source": [
        ""
      ],
      "execution_count": null,
      "outputs": []
    },
    {
      "cell_type": "code",
      "metadata": {
        "id": "uDapKSh1T_Ll",
        "colab_type": "code",
        "colab": {}
      },
      "source": [
        ""
      ],
      "execution_count": null,
      "outputs": []
    },
    {
      "cell_type": "code",
      "metadata": {
        "id": "FVqoDaufRci8",
        "colab_type": "code",
        "colab": {}
      },
      "source": [
        ""
      ],
      "execution_count": null,
      "outputs": []
    },
    {
      "cell_type": "code",
      "metadata": {
        "id": "kXz2-QbrRce0",
        "colab_type": "code",
        "colab": {}
      },
      "source": [
        ""
      ],
      "execution_count": null,
      "outputs": []
    },
    {
      "cell_type": "code",
      "metadata": {
        "id": "TJ_bEALGRcaN",
        "colab_type": "code",
        "colab": {}
      },
      "source": [
        ""
      ],
      "execution_count": null,
      "outputs": []
    }
  ]
}